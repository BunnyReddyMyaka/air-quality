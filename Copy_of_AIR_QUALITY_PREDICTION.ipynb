{
  "nbformat": 4,
  "nbformat_minor": 0,
  "metadata": {
    "colab": {
      "name": "Copy of AIR QUALITY PREDICTION ",
      "provenance": [],
      "collapsed_sections": []
    },
    "kernelspec": {
      "display_name": "Python 3",
      "name": "python3"
    }
  },
  "cells": [
    {
      "cell_type": "markdown",
      "metadata": {
        "id": "5fCEDCU_qrC0"
      },
      "source": [
        "<p><img alt=\"Colaboratory logo\" height=\"45px\" src=\"/img/colab_favicon.ico\" align=\"left\" hspace=\"10px\" vspace=\"0px\"></p>\n",
        "\n",
        "<h1>What is Colaboratory?</h1>\n",
        "\n",
        "Colaboratory, or \"Colab\" for short, allows you to write and execute Python in your browser, with \n",
        "- Zero configuration required\n",
        "- Free access to GPUs\n",
        "- Easy sharing\n",
        "\n",
        "Whether you're a **student**, a **data scientist** or an **AI researcher**, Colab can make your work easier. Watch [Introduction to Colab](https://www.youtube.com/watch?v=inN8seMm7UI) to learn more, or just get started below!"
      ]
    },
    {
      "cell_type": "markdown",
      "metadata": {
        "id": "GJBs_flRovLc"
      },
      "source": [
        "## **Getting started**\n",
        "\n",
        "The document you are reading is not a static web page, but an interactive environment called a **Colab notebook** that lets you write and execute code.\n",
        "\n",
        "For example, here is a **code cell** with a short Python script that computes a value, stores it in a variable, and prints the result:"
      ]
    },
    {
      "cell_type": "code",
      "metadata": {
        "colab": {
          "base_uri": "https://localhost:8080/",
          "height": 34
        },
        "id": "gJr_9dXGpJ05",
        "outputId": "9f556d03-ec67-4950-a485-cfdba9ddd14d"
      },
      "source": [
        "seconds_in_a_day = 24 * 60 * 60\n",
        "seconds_in_a_day"
      ],
      "execution_count": null,
      "outputs": [
        {
          "data": {
            "text/plain": [
              "86400"
            ]
          },
          "execution_count": 0,
          "metadata": {
            "tags": []
          },
          "output_type": "execute_result"
        }
      ]
    },
    {
      "cell_type": "markdown",
      "metadata": {
        "id": "2fhs6GZ4qFMx"
      },
      "source": [
        "To execute the code in the above cell, select it with a click and then either press the play button to the left of the code, or use the keyboard shortcut \"Command/Ctrl+Enter\". To edit the code, just click the cell and start editing.\n",
        "\n",
        "Variables that you define in one cell can later be used in other cells:"
      ]
    },
    {
      "cell_type": "code",
      "metadata": {
        "colab": {
          "base_uri": "https://localhost:8080/",
          "height": 34
        },
        "id": "-gE-Ez1qtyIA",
        "outputId": "94cb2224-0edf-457b-90b5-0ac3488d8a97"
      },
      "source": [
        "seconds_in_a_week = 7 * seconds_in_a_day\n",
        "seconds_in_a_week"
      ],
      "execution_count": null,
      "outputs": [
        {
          "data": {
            "text/plain": [
              "604800"
            ]
          },
          "execution_count": 0,
          "metadata": {
            "tags": []
          },
          "output_type": "execute_result"
        }
      ]
    },
    {
      "cell_type": "markdown",
      "metadata": {
        "id": "lSrWNr3MuFUS"
      },
      "source": [
        "Colab notebooks allow you to combine **executable code** and **rich text** in a single document, along with **images**, **HTML**, **LaTeX** and more. When you create your own Colab notebooks, they are stored in your Google Drive account. You can easily share your Colab notebooks with co-workers or friends, allowing them to comment on your notebooks or even edit them. To learn more, see [Overview of Colab](/notebooks/basic_features_overview.ipynb). To create a new Colab notebook you can use the File menu above, or use the following link: [create a new Colab notebook](http://colab.research.google.com#create=true).\n",
        "\n",
        "Colab notebooks are Jupyter notebooks that are hosted by Colab. To learn more about the Jupyter project, see [jupyter.org](https://www.jupyter.org)."
      ]
    },
    {
      "cell_type": "markdown",
      "metadata": {
        "id": "UdRyKR44dcNI"
      },
      "source": [
        "## Data science\n",
        "\n",
        "With Colab you can harness the full power of popular Python libraries to analyze and visualize data. The code cell below uses **numpy** to generate some random data, and uses **matplotlib** to visualize it. To edit the code, just click the cell and start editing."
      ]
    },
    {
      "cell_type": "code",
      "metadata": {
        "colab": {
          "base_uri": "https://localhost:8080/",
          "height": 281
        },
        "id": "C4HZx7Gndbrh",
        "outputId": "46abc637-6abd-41b2-9bba-80a7ae992e06"
      },
      "source": [
        "import numpy as np\n",
        "from matplotlib import pyplot as plt\n",
        "\n",
        "ys = 200 + np.random.randn(100)\n",
        "x = [x for x in range(len(ys))]\n",
        "\n",
        "plt.plot(x, ys, '-')\n",
        "plt.fill_between(x, ys, 195, where=(ys > 195), facecolor='g', alpha=0.6)\n",
        "\n",
        "plt.title(\"Sample Visualization\")\n",
        "plt.show()"
      ],
      "execution_count": null,
      "outputs": [
        {
          "data": {
            "image/png": "[encoded data removed]",
            "text/plain": [
              "<Figure size 432x288 with 1 Axes>"
            ]
          },
          "metadata": {
            "tags": []
          },
          "output_type": "display_data"
        }
      ]
    },
    {
      "cell_type": "markdown",
      "metadata": {
        "id": "4_kCnsPUqS6o"
      },
      "source": [
        "You can import your own data into Colab notebooks from your Google Drive account, including from spreadsheets, as well as from Github and many other sources. To learn more about importing data, and how Colab can be used for data science, see the links below under [Working with Data](#working-with-data)."
      ]
    },
    {
      "cell_type": "markdown",
      "metadata": {
        "id": "OwuxHmxllTwN"
      },
      "source": [
        "## Machine learning\n",
        "\n",
        "With Colab you can import an image dataset, train an image classifier on it, and evaluate the model, all in just [a few lines of code](https://colab.research.google.com/github/tensorflow/docs/blob/master/site/en/tutorials/quickstart/beginner.ipynb). Colab notebooks execute code on Google's cloud servers, meaning you can leverage the power of Google hardware, including [GPUs and TPUs](#using-accelerated-hardware), regardless of the power of your machine. All you need is a browser."
      ]
    },
    {
      "cell_type": "markdown",
      "metadata": {
        "id": "ufxBm1yRnruN"
      },
      "source": [
        "Colab is used extensively in the machine learning community with applications including:\n",
        "- Getting started with TensorFlow\n",
        "- Developing and training neural networks\n",
        "- Experimenting with TPUs\n",
        "- Disseminating AI research\n",
        "- Creating tutorials\n",
        "\n",
        "To see sample Colab notebooks that demonstrate machine learning applications, see the [machine learning examples](#machine-learning-examples) below."
      ]
    },
    {
      "cell_type": "markdown",
      "metadata": {
        "id": "-Rh3-Vt9Nev9"
      },
      "source": [
        "## More Resources\n",
        "\n",
        "### Working with Notebooks in Colab\n",
        "- [Overview of Colaboratory](/notebooks/basic_features_overview.ipynb)\n",
        "- [Guide to Markdown](/notebooks/markdown_guide.ipynb)\n",
        "- [Importing libraries and installing dependencies](/notebooks/snippets/importing_libraries.ipynb)\n",
        "- [Saving and loading notebooks in GitHub](https://colab.research.google.com/github/googlecolab/colabtools/blob/master/notebooks/colab-github-demo.ipynb)\n",
        "- [Interactive forms](/notebooks/forms.ipynb)\n",
        "- [Interactive widgets](/notebooks/widgets.ipynb)\n",
        "- <img src=\"/img/new.png\" height=\"20px\" align=\"left\" hspace=\"4px\" alt=\"New\"></img>\n",
        " [TensorFlow 2 in Colab](/notebooks/tensorflow_version.ipynb)\n",
        "\n",
        "<a name=\"working-with-data\"></a>\n",
        "### Working with Data\n",
        "- [Loading data: Drive, Sheets, and Google Cloud Storage](/notebooks/io.ipynb) \n",
        "- [Charts: visualizing data](/notebooks/charts.ipynb)\n",
        "- [Getting started with BigQuery](/notebooks/bigquery.ipynb)\n",
        "\n",
        "### Machine Learning Crash Course\n",
        "These are a few of the notebooks from Google's online Machine Learning course. See the [full course website](https://developers.google.com/machine-learning/crash-course/) for more.\n",
        "- [Intro to Pandas DataFrame](https://colab.research.google.com/github/google/eng-edu/blob/main/ml/cc/exercises/pandas_dataframe_ultraquick_tutorial.ipynb)\n",
        "- [Linear regression with tf.keras using synthetic data](https://colab.research.google.com/github/google/eng-edu/blob/main/ml/cc/exercises/linear_regression_with_synthetic_data.ipynb)\n",
        "\n",
        "\n",
        "<a name=\"using-accelerated-hardware\"></a>\n",
        "### Using Accelerated Hardware\n",
        "- [TensorFlow with GPUs](/notebooks/gpu.ipynb)\n",
        "- [TensorFlow with TPUs](/notebooks/tpu.ipynb)"
      ]
    },
    {
      "cell_type": "markdown",
      "metadata": {
        "id": "P-H6Lw1vyNNd"
      },
      "source": [
        "<a name=\"machine-learning-examples\"></a>\n",
        "\n",
        "## Machine Learning Examples\n",
        "\n",
        "To see end-to-end examples of the interactive machine learning analyses that Colaboratory makes possible, check out these  tutorials using models from [TensorFlow Hub](https://tfhub.dev).\n",
        "\n",
        "A few featured examples:\n",
        "\n",
        "- [Retraining an Image Classifier](https://tensorflow.org/hub/tutorials/tf2_image_retraining): Build a Keras model on top of a pre-trained image classifier to distinguish flowers.\n",
        "- [Text Classification](https://tensorflow.org/hub/tutorials/tf2_text_classification): Classify IMDB movie reviews as either *positive* or *negative*.\n",
        "- [Style Transfer](https://tensorflow.org/hub/tutorials/tf2_arbitrary_image_stylization): Use deep learning to transfer style between images.\n",
        "- [Multilingual Universal Sentence Encoder Q&A](https://tensorflow.org/hub/tutorials/retrieval_with_tf_hub_universal_encoder_qa): Use a machine learning model to answer questions from the SQuAD dataset.\n",
        "- [Video Interpolation](https://tensorflow.org/hub/tutorials/tweening_conv3d): Predict what happened in a video between the first and the last frame.\n"
      ]
    },
    {
      "cell_type": "code",
      "metadata": {
        "id": "FQBn99HavxI5",
        "colab": {
          "base_uri": "https://localhost:8080/"
        },
        "outputId": "1a24d44a-8f34-4d42-a5aa-68406544c63f"
      },
      "source": [
        "import pandas as pd\n",
        "d=pd.read_csv('/content/ml.csv')\n",
        "print(d)"
      ],
      "execution_count": 2,
      "outputs": [
        {
          "output_type": "stream",
          "name": "stdout",
          "text": [
            "           Date      Time  CO(GT)  PT08.S1(CO)  ...  PT08.S5(O3)     T    RH      AH\n",
            "0     3/10/2004  18:00:00     2.6         1360  ...         1268  13.6  48.9  0.7578\n",
            "1     3/10/2004  19:00:00     2.0         1292  ...          972  13.3  47.7  0.7255\n",
            "2     3/10/2004  20:00:00     2.2         1402  ...         1074  11.9  54.0  0.7502\n",
            "3     3/10/2004  21:00:00     2.2         1376  ...         1203  11.0  60.0  0.7867\n",
            "4     3/10/2004  22:00:00     1.6         1272  ...         1110  11.2  59.6  0.7888\n",
            "...         ...       ...     ...          ...  ...          ...   ...   ...     ...\n",
            "9352   4/4/2005  10:00:00     3.1         1314  ...         1729  21.9  29.3  0.7568\n",
            "9353   4/4/2005  11:00:00     2.4         1163  ...         1269  24.3  23.7  0.7119\n",
            "9354   4/4/2005  12:00:00     2.4         1142  ...         1092  26.9  18.3  0.6406\n",
            "9355   4/4/2005  13:00:00     2.1         1003  ...          770  28.3  13.5  0.5139\n",
            "9356   4/4/2005  14:00:00     2.2         1071  ...          816  28.5  13.1  0.5028\n",
            "\n",
            "[9357 rows x 15 columns]\n"
          ]
        }
      ]
    },
    {
      "cell_type": "code",
      "metadata": {
        "id": "ssIieRCOvxYr",
        "colab": {
          "base_uri": "https://localhost:8080/"
        },
        "outputId": "d4daeff8-04e2-4c3d-a63a-50cbf69bc26b"
      },
      "source": [
        "x1=d['CO(GT)']\n",
        "x2=d['PT08.S1(CO)']\n",
        "x3=d['NMHC(GT)']\n",
        "x4=d['C6H6(GT)']\n",
        "x5=d['PT08.S2(NMHC)']\n",
        "x6=d['NOx(GT)']\n",
        "x7=d['PT08.S3(NOx)']\n",
        "x8=d['NO2(GT)']\n",
        "x9=d['PT08.S4(NO2)']\n",
        "x10=d['PT08.S5(O3)']\n",
        "x11=d['T']\n",
        "x12=d['RH']\n",
        "y=d['AH']\n",
        "print(x1,x2,x3,x4,x5,x6,x7,x8,x9,x10,x11,x12,y)"
      ],
      "execution_count": 6,
      "outputs": [
        {
          "output_type": "stream",
          "name": "stdout",
          "text": [
            "0       2.6\n",
            "1       2.0\n",
            "2       2.2\n",
            "3       2.2\n",
            "4       1.6\n",
            "       ... \n",
            "9352    3.1\n",
            "9353    2.4\n",
            "9354    2.4\n",
            "9355    2.1\n",
            "9356    2.2\n",
            "Name: CO(GT), Length: 9357, dtype: float64 0       1360\n",
            "1       1292\n",
            "2       1402\n",
            "3       1376\n",
            "4       1272\n",
            "        ... \n",
            "9352    1314\n",
            "9353    1163\n",
            "9354    1142\n",
            "9355    1003\n",
            "9356    1071\n",
            "Name: PT08.S1(CO), Length: 9357, dtype: int64 0       150\n",
            "1       112\n",
            "2        88\n",
            "3        80\n",
            "4        51\n",
            "       ... \n",
            "9352   -200\n",
            "9353   -200\n",
            "9354   -200\n",
            "9355   -200\n",
            "9356   -200\n",
            "Name: NMHC(GT), Length: 9357, dtype: int64 0       11.9\n",
            "1        9.4\n",
            "2        9.0\n",
            "3        9.2\n",
            "4        6.5\n",
            "        ... \n",
            "9352    13.5\n",
            "9353    11.4\n",
            "9354    12.4\n",
            "9355     9.5\n",
            "9356    11.9\n",
            "Name: C6H6(GT), Length: 9357, dtype: float64 0       1046\n",
            "1        955\n",
            "2        939\n",
            "3        948\n",
            "4        836\n",
            "        ... \n",
            "9352    1101\n",
            "9353    1027\n",
            "9354    1063\n",
            "9355     961\n",
            "9356    1047\n",
            "Name: PT08.S2(NMHC), Length: 9357, dtype: int64 0       166\n",
            "1       103\n",
            "2       131\n",
            "3       172\n",
            "4       131\n",
            "       ... \n",
            "9352    472\n",
            "9353    353\n",
            "9354    293\n",
            "9355    235\n",
            "9356    265\n",
            "Name: NOx(GT), Length: 9357, dtype: int64 0       1056\n",
            "1       1174\n",
            "2       1140\n",
            "3       1092\n",
            "4       1205\n",
            "        ... \n",
            "9352     539\n",
            "9353     604\n",
            "9354     603\n",
            "9355     702\n",
            "9356     654\n",
            "Name: PT08.S3(NOx), Length: 9357, dtype: int64 0       113\n",
            "1        92\n",
            "2       114\n",
            "3       122\n",
            "4       116\n",
            "       ... \n",
            "9352    190\n",
            "9353    179\n",
            "9354    175\n",
            "9355    156\n",
            "9356    168\n",
            "Name: NO2(GT), Length: 9357, dtype: int64 0       1692\n",
            "1       1559\n",
            "2       1555\n",
            "3       1584\n",
            "4       1490\n",
            "        ... \n",
            "9352    1374\n",
            "9353    1264\n",
            "9354    1241\n",
            "9355    1041\n",
            "9356    1129\n",
            "Name: PT08.S4(NO2), Length: 9357, dtype: int64 0       1268\n",
            "1        972\n",
            "2       1074\n",
            "3       1203\n",
            "4       1110\n",
            "        ... \n",
            "9352    1729\n",
            "9353    1269\n",
            "9354    1092\n",
            "9355     770\n",
            "9356     816\n",
            "Name: PT08.S5(O3), Length: 9357, dtype: int64 0       13.6\n",
            "1       13.3\n",
            "2       11.9\n",
            "3       11.0\n",
            "4       11.2\n",
            "        ... \n",
            "9352    21.9\n",
            "9353    24.3\n",
            "9354    26.9\n",
            "9355    28.3\n",
            "9356    28.5\n",
            "Name: T, Length: 9357, dtype: float64 0       48.9\n",
            "1       47.7\n",
            "2       54.0\n",
            "3       60.0\n",
            "4       59.6\n",
            "        ... \n",
            "9352    29.3\n",
            "9353    23.7\n",
            "9354    18.3\n",
            "9355    13.5\n",
            "9356    13.1\n",
            "Name: RH, Length: 9357, dtype: float64 0       0.7578\n",
            "1       0.7255\n",
            "2       0.7502\n",
            "3       0.7867\n",
            "4       0.7888\n",
            "         ...  \n",
            "9352    0.7568\n",
            "9353    0.7119\n",
            "9354    0.6406\n",
            "9355    0.5139\n",
            "9356    0.5028\n",
            "Name: AH, Length: 9357, dtype: float64\n"
          ]
        }
      ]
    },
    {
      "cell_type": "code",
      "metadata": {
        "id": "e5VQrUuH_3Rv"
      },
      "source": [
        "import numpy as np\n",
        "\n",
        "def linear(m1,m2,m3,m4,m5,m6,m7,m8,m9,m10,m11,m12,c):\n",
        "  sum=0\n",
        "  yp=[]\n",
        "  a=[]\n",
        "  for i in range(0,len(x1)):\n",
        "    yp.append(m1*x1[i]+m2*x2[i]+m3*x3[i]+m4*x4[i]+m5*x5[i]+m6*x6[i]+m7*x7[i]+m8*x8[i]+m9*x9[i]+m10*x10[i]+m11*x11[i]+m12*x12[i]+c)\n",
        "    b=(y[i]-yp[i])**2\n",
        "    sum=sum+b\n",
        "    a.append(b)\n",
        "  print(m1,m2,m3,m4,m5,m6,m7,m8,m9,m10,m11,m12,c,np.mod(sum,len(x12)))\n",
        "  sum=0\n",
        "\n",
        "\n",
        "for i in range(1,1000):\n",
        "   linear(10+i,20+i,30+i,40+i,50+i,60+i,70+i,80+i,90+i,100+i,110+i,120+i,100+i)"
      ],
      "execution_count": null,
      "outputs": []
    },
    {
      "cell_type": "code",
      "metadata": {
        "id": "BinpRTTKvxqh",
        "colab": {
          "base_uri": "https://localhost:8080/"
        },
        "outputId": "f7c54168-c906-4559-985e-7682b0937c70"
      },
      "source": [
        "testing_data=d[0:6000: ]\n",
        "training_data=d[6000:9358: ]\n",
        "print( testing_data)"
      ],
      "execution_count": 8,
      "outputs": [
        {
          "output_type": "stream",
          "name": "stdout",
          "text": [
            "            Date      Time  CO(GT)  ...     T    RH      AH\n",
            "0      3/10/2004  18:00:00     2.6  ...  13.6  48.9  0.7578\n",
            "1      3/10/2004  19:00:00     2.0  ...  13.3  47.7  0.7255\n",
            "2      3/10/2004  20:00:00     2.2  ...  11.9  54.0  0.7502\n",
            "3      3/10/2004  21:00:00     2.2  ...  11.0  60.0  0.7867\n",
            "4      3/10/2004  22:00:00     1.6  ...  11.2  59.6  0.7888\n",
            "...          ...       ...     ...  ...   ...   ...     ...\n",
            "5995  11/15/2004  13:00:00     1.8  ...  13.5  34.9  0.5393\n",
            "5996  11/15/2004  14:00:00     1.7  ...  13.7  32.2  0.5032\n",
            "5997  11/15/2004  15:00:00     1.7  ...  13.6  32.1  0.4977\n",
            "5998  11/15/2004  16:00:00     1.7  ...  13.5  31.8  0.4876\n",
            "5999  11/15/2004  17:00:00     2.6  ...  13.5  27.9  0.4287\n",
            "\n",
            "[6000 rows x 15 columns]\n"
          ]
        }
      ]
    },
    {
      "cell_type": "code",
      "metadata": {
        "id": "_K7-zdJG8_p3",
        "colab": {
          "base_uri": "https://localhost:8080/"
        },
        "outputId": "95909f23-98c5-4f52-bbfc-3975147c3c9b"
      },
      "source": [
        "testing_data=d[0:6000: ]\n",
        "training_data=d[6000:9358: ]\n",
        "print( training_data)"
      ],
      "execution_count": 9,
      "outputs": [
        {
          "output_type": "stream",
          "name": "stdout",
          "text": [
            "            Date      Time  CO(GT)  ...     T    RH      AH\n",
            "6000  11/15/2004  18:00:00     4.0  ...  12.7  28.9  0.4233\n",
            "6001  11/15/2004  19:00:00     3.8  ...  12.6  30.2  0.4384\n",
            "6002  11/15/2004  20:00:00     4.0  ...  12.3  32.0  0.4553\n",
            "6003  11/15/2004  21:00:00     2.4  ...  12.0  34.3  0.4787\n",
            "6004  11/15/2004  22:00:00     1.4  ...  11.6  37.3  0.5095\n",
            "...          ...       ...     ...  ...   ...   ...     ...\n",
            "9352    4/4/2005  10:00:00     3.1  ...  21.9  29.3  0.7568\n",
            "9353    4/4/2005  11:00:00     2.4  ...  24.3  23.7  0.7119\n",
            "9354    4/4/2005  12:00:00     2.4  ...  26.9  18.3  0.6406\n",
            "9355    4/4/2005  13:00:00     2.1  ...  28.3  13.5  0.5139\n",
            "9356    4/4/2005  14:00:00     2.2  ...  28.5  13.1  0.5028\n",
            "\n",
            "[3357 rows x 15 columns]\n"
          ]
        }
      ]
    },
    {
      "cell_type": "code",
      "metadata": {
        "id": "YWwqewLy9EhB",
        "colab": {
          "base_uri": "https://localhost:8080/",
          "height": 282
        },
        "outputId": "d5f9df53-dc0f-422b-e538-66959d649340"
      },
      "source": [
        "from matplotlib import pyplot as pt\n",
        "pt.scatter(x1,y)"
      ],
      "execution_count": 10,
      "outputs": [
        {
          "output_type": "execute_result",
          "data": {
            "text/plain": [
              "<matplotlib.collections.PathCollection at 0x7fa4af62a6d0>"
            ]
          },
          "metadata": {},
          "execution_count": 10
        },
        {
          "output_type": "display_data",
          "data": {
            "image/png": "[encoded data removed]",
            "text/plain": [
              "<Figure size 432x288 with 1 Axes>"
            ]
          },
          "metadata": {
            "needs_background": "light"
          }
        }
      ]
    },
    {
      "cell_type": "code",
      "metadata": {
        "id": "MV8-q52Q-34x",
        "colab": {
          "base_uri": "https://localhost:8080/",
          "height": 282
        },
        "outputId": "9a3ac12e-bfae-4def-bc6e-1ef6e77ce0a1"
      },
      "source": [
        "pt.scatter(x2,y)"
      ],
      "execution_count": null,
      "outputs": [
        {
          "output_type": "execute_result",
          "data": {
            "text/plain": [
              "<matplotlib.collections.PathCollection at 0x7f68e14ba150>"
            ]
          },
          "metadata": {},
          "execution_count": 21
        },
        {
          "output_type": "display_data",
          "data": {
            "image/png": "[encoded data removed]",
            "text/plain": [
              "<Figure size 432x288 with 1 Axes>"
            ]
          },
          "metadata": {
            "needs_background": "light"
          }
        }
      ]
    },
    {
      "cell_type": "code",
      "metadata": {
        "id": "7xAm59LN--UM",
        "colab": {
          "base_uri": "https://localhost:8080/",
          "height": 282
        },
        "outputId": "1d2b84e7-d10c-4227-ac4c-4b05013b9e0c"
      },
      "source": [
        "pt.scatter(x3,y)"
      ],
      "execution_count": null,
      "outputs": [
        {
          "output_type": "execute_result",
          "data": {
            "text/plain": [
              "<matplotlib.collections.PathCollection at 0x7f68e16aebd0>"
            ]
          },
          "metadata": {},
          "execution_count": 16
        },
        {
          "output_type": "display_data",
          "data": {
            "image/png": "[encoded data removed]",
            "text/plain": [
              "<Figure size 432x288 with 1 Axes>"
            ]
          },
          "metadata": {
            "needs_background": "light"
          }
        }
      ]
    },
    {
      "cell_type": "code",
      "metadata": {
        "id": "1zJHhfzn_Aa1",
        "colab": {
          "base_uri": "https://localhost:8080/",
          "height": 282
        },
        "outputId": "349bb261-6374-4182-c218-72bd5a675254"
      },
      "source": [
        "pt.scatter(x4,y)"
      ],
      "execution_count": null,
      "outputs": [
        {
          "output_type": "execute_result",
          "data": {
            "text/plain": [
              "<matplotlib.collections.PathCollection at 0x7f68e16b7ad0>"
            ]
          },
          "metadata": {},
          "execution_count": 17
        },
        {
          "output_type": "display_data",
          "data": {
            "image/png": "[encoded data removed]",
            "text/plain": [
              "<Figure size 432x288 with 1 Axes>"
            ]
          },
          "metadata": {
            "needs_background": "light"
          }
        }
      ]
    },
    {
      "cell_type": "code",
      "metadata": {
        "id": "NRilx5MW_CPL",
        "colab": {
          "base_uri": "https://localhost:8080/",
          "height": 282
        },
        "outputId": "6c3d0001-b4d4-4d0f-ae0d-479804f61f01"
      },
      "source": [
        "pt.scatter(x5,y)"
      ],
      "execution_count": null,
      "outputs": [
        {
          "output_type": "execute_result",
          "data": {
            "text/plain": [
              "<matplotlib.collections.PathCollection at 0x7f68e1bec7d0>"
            ]
          },
          "metadata": {},
          "execution_count": 18
        },
        {
          "output_type": "display_data",
          "data": {
            "image/png": "[encoded data removed]",
            "text/plain": [
              "<Figure size 432x288 with 1 Axes>"
            ]
          },
          "metadata": {
            "needs_background": "light"
          }
        }
      ]
    },
    {
      "cell_type": "code",
      "metadata": {
        "id": "hQ0nZQwQ_ELo",
        "colab": {
          "base_uri": "https://localhost:8080/",
          "height": 282
        },
        "outputId": "bc6b0926-33b8-4107-81f9-5ee7dd0acde1"
      },
      "source": [
        "pt.scatter(x6,y)"
      ],
      "execution_count": null,
      "outputs": [
        {
          "output_type": "execute_result",
          "data": {
            "text/plain": [
              "<matplotlib.collections.PathCollection at 0x7f68e1423990>"
            ]
          },
          "metadata": {},
          "execution_count": 22
        },
        {
          "output_type": "display_data",
          "data": {
            "image/png": "[encoded data removed]",
            "text/plain": [
              "<Figure size 432x288 with 1 Axes>"
            ]
          },
          "metadata": {
            "needs_background": "light"
          }
        }
      ]
    },
    {
      "cell_type": "code",
      "metadata": {
        "id": "LR9QP0Vv_d-h",
        "colab": {
          "base_uri": "https://localhost:8080/",
          "height": 282
        },
        "outputId": "2efd661a-9d2a-40af-a4e1-cacfe85d1b68"
      },
      "source": [
        "pt.scatter(x7,y)"
      ],
      "execution_count": null,
      "outputs": [
        {
          "output_type": "execute_result",
          "data": {
            "text/plain": [
              "<matplotlib.collections.PathCollection at 0x7f68e1400710>"
            ]
          },
          "metadata": {},
          "execution_count": 23
        },
        {
          "output_type": "display_data",
          "data": {
            "image/png": "[encoded data removed]",
            "text/plain": [
              "<Figure size 432x288 with 1 Axes>"
            ]
          },
          "metadata": {
            "needs_background": "light"
          }
        }
      ]
    },
    {
      "cell_type": "code",
      "metadata": {
        "id": "G-7bR5bU_f4L",
        "colab": {
          "base_uri": "https://localhost:8080/",
          "height": 282
        },
        "outputId": "28b7aef4-8895-4f23-afa1-36921d9ea78a"
      },
      "source": [
        "pt.scatter(x8,y)"
      ],
      "execution_count": null,
      "outputs": [
        {
          "output_type": "execute_result",
          "data": {
            "text/plain": [
              "<matplotlib.collections.PathCollection at 0x7f68e1385490>"
            ]
          },
          "metadata": {},
          "execution_count": 24
        },
        {
          "output_type": "display_data",
          "data": {
            "image/png": "[encoded data removed]",
            "text/plain": [
              "<Figure size 432x288 with 1 Axes>"
            ]
          },
          "metadata": {
            "needs_background": "light"
          }
        }
      ]
    },
    {
      "cell_type": "code",
      "metadata": {
        "id": "nLdI03K9_ibt",
        "colab": {
          "base_uri": "https://localhost:8080/",
          "height": 282
        },
        "outputId": "2e35d006-d393-4cfd-92fb-ce010aecf8d6"
      },
      "source": [
        "pt.scatter(x9,y)"
      ],
      "execution_count": null,
      "outputs": [
        {
          "output_type": "execute_result",
          "data": {
            "text/plain": [
              "<matplotlib.collections.PathCollection at 0x7f68e12c3f50>"
            ]
          },
          "metadata": {},
          "execution_count": 25
        },
        {
          "output_type": "display_data",
          "data": {
            "image/png": "[encoded data removed]",
            "text/plain": [
              "<Figure size 432x288 with 1 Axes>"
            ]
          },
          "metadata": {
            "needs_background": "light"
          }
        }
      ]
    },
    {
      "cell_type": "code",
      "metadata": {
        "id": "m-_9_XGQ_j2M",
        "colab": {
          "base_uri": "https://localhost:8080/",
          "height": 282
        },
        "outputId": "5825432a-6ee9-4928-cddf-7f1809e682e9"
      },
      "source": [
        "pt.scatter(x10,y)"
      ],
      "execution_count": null,
      "outputs": [
        {
          "output_type": "execute_result",
          "data": {
            "text/plain": [
              "<matplotlib.collections.PathCollection at 0x7f68e124e350>"
            ]
          },
          "metadata": {},
          "execution_count": 26
        },
        {
          "output_type": "display_data",
          "data": {
            "image/png": "[encoded data removed]",
            "text/plain": [
              "<Figure size 432x288 with 1 Axes>"
            ]
          },
          "metadata": {
            "needs_background": "light"
          }
        }
      ]
    },
    {
      "cell_type": "code",
      "metadata": {
        "id": "etJvT8tS_k-V",
        "colab": {
          "base_uri": "https://localhost:8080/",
          "height": 282
        },
        "outputId": "58adeec3-4009-44d9-95f1-3113f5fecb9c"
      },
      "source": [
        "pt.scatter(x11,y)"
      ],
      "execution_count": null,
      "outputs": [
        {
          "output_type": "execute_result",
          "data": {
            "text/plain": [
              "<matplotlib.collections.PathCollection at 0x7f68e11a3f50>"
            ]
          },
          "metadata": {},
          "execution_count": 27
        },
        {
          "output_type": "display_data",
          "data": {
            "image/png": "[encoded data removed]",
            "text/plain": [
              "<Figure size 432x288 with 1 Axes>"
            ]
          },
          "metadata": {
            "needs_background": "light"
          }
        }
      ]
    },
    {
      "cell_type": "code",
      "metadata": {
        "id": "9YCNx1jR_nm4",
        "colab": {
          "base_uri": "https://localhost:8080/",
          "height": 282
        },
        "outputId": "b440ff85-31e6-4587-8e60-992a784ceb3f"
      },
      "source": [
        "pt.scatter(x12,y)"
      ],
      "execution_count": null,
      "outputs": [
        {
          "output_type": "execute_result",
          "data": {
            "text/plain": [
              "<matplotlib.collections.PathCollection at 0x7f68e11dead0>"
            ]
          },
          "metadata": {},
          "execution_count": 28
        },
        {
          "output_type": "display_data",
          "data": {
            "image/png": "[encoded data removed]",
            "text/plain": [
              "<Figure size 432x288 with 1 Axes>"
            ]
          },
          "metadata": {
            "needs_background": "light"
          }
        }
      ]
    }
  ]
}